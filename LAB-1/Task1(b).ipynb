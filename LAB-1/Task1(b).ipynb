{
  "nbformat": 4,
  "nbformat_minor": 0,
  "metadata": {
    "colab": {
      "provenance": [],
      "authorship_tag": "ABX9TyPKYvkdfDhVg1cRencG5fC+",
      "include_colab_link": true
    },
    "kernelspec": {
      "name": "python3",
      "display_name": "Python 3"
    },
    "language_info": {
      "name": "python"
    }
  },
  "cells": [
    {
      "cell_type": "markdown",
      "metadata": {
        "id": "view-in-github",
        "colab_type": "text"
      },
      "source": [
        "<a href=\"https://colab.research.google.com/github/SHUVASHIS01/CSE221-Fall23/blob/main/LAB-1/Task1(b).ipynb\" target=\"_parent\"><img src=\"https://colab.research.google.com/assets/colab-badge.svg\" alt=\"Open In Colab\"/></a>"
      ]
    },
    {
      "cell_type": "code",
      "execution_count": 3,
      "metadata": {
        "id": "GT3eX0MPFgjG"
      },
      "outputs": [],
      "source": [
        "f1=open(\"input1b.txt\", \"r\")\n",
        "f2=open(\"output1b.txt\", \"w\")\n",
        "n=int(f1.readline())\n",
        "for i in range (n):\n",
        "  n1=f1.readline()\n",
        "  l=n1.split()\n",
        "  if l[2]=='+':\n",
        "    f2.writelines(f'The result of {l[1]} {l[2]} {l[3]} is {int(l[1])+int(l[3])}\\n')\n",
        "  elif l[2]=='-':\n",
        "    f2.writelines(f'The result of {l[1]} {l[2]} {l[3]} is {int(l[1])-int(l[3])}\\n')\n",
        "  elif l[2]=='/':\n",
        "    f2.writelines(f'The result of {l[1]} {l[2]} {l[3]} is {int(l[1])/int(l[3])}\\n')\n",
        "  else:\n",
        "    f2.writelines(f'The result of {l[1]} {l[2]} {l[3]} is {int(l[1])*int(l[3])}\\n')\n",
        "f2.close()"
      ]
    }
  ]
}