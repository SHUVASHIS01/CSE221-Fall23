{
  "nbformat": 4,
  "nbformat_minor": 0,
  "metadata": {
    "colab": {
      "provenance": [],
      "authorship_tag": "ABX9TyPcfQ8KvDzuJtlpa0LZROwx",
      "include_colab_link": true
    },
    "kernelspec": {
      "name": "python3",
      "display_name": "Python 3"
    },
    "language_info": {
      "name": "python"
    }
  },
  "cells": [
    {
      "cell_type": "markdown",
      "metadata": {
        "id": "view-in-github",
        "colab_type": "text"
      },
      "source": [
        "<a href=\"https://colab.research.google.com/github/SHUVASHIS01/CSE221-Fall23/blob/main/LAB-1/Task1(a).ipynb\" target=\"_parent\"><img src=\"https://colab.research.google.com/assets/colab-badge.svg\" alt=\"Open In Colab\"/></a>"
      ]
    },
    {
      "cell_type": "code",
      "execution_count": null,
      "metadata": {
        "colab": {
          "base_uri": "https://localhost:8080/"
        },
        "id": "Dt7ENPBHJ5jJ",
        "outputId": "5d1dc7d8-be46-4247-e8c6-9cd6e3ad6eb2"
      },
      "outputs": [
        {
          "output_type": "stream",
          "name": "stdout",
          "text": [
            "5\n",
            "10\n",
            "19\n",
            "7\n",
            "3\n",
            "100\n"
          ]
        }
      ],
      "source": [
        "file=open(\"input1a.txt\", \"r\")\n",
        "text=file.read()\n",
        "print(text)"
      ]
    },
    {
      "cell_type": "code",
      "source": [
        "file=open(\"output1a.txt\", \"a\")\n",
        "file.write(\"new folder\")\n",
        "file.close()"
      ],
      "metadata": {
        "id": "pZYn7EWeR8s0"
      },
      "execution_count": null,
      "outputs": []
    },
    {
      "cell_type": "code",
      "source": [
        "f=open(\"output1a.txt\", \"w\")\n",
        "print(\"hello world\", file=f)\n",
        "f.close()"
      ],
      "metadata": {
        "id": "SSPZHtzHTCaT"
      },
      "execution_count": null,
      "outputs": []
    },
    {
      "cell_type": "code",
      "source": [
        "file=open(\"input1a.txt\", \"r\")\n",
        "text=file.readline()\n",
        "f=open(\"output1a.txt\", 'w')\n",
        "for i in range (int(text)):\n",
        "  text1=file.readline()\n",
        "  if int(text1)%2==0:\n",
        "    f.writelines(f'{int(text1)} is an Even number\\n')\n",
        "  else:\n",
        "    f.writelines(f'{int(text1)} is an Odd number\\n')\n",
        "f.close()"
      ],
      "metadata": {
        "id": "LpDFsJvDU896"
      },
      "execution_count": null,
      "outputs": []
    }
  ]
}